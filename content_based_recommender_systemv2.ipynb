{
 "cells": [
  {
   "metadata": {},
   "cell_type": "markdown",
   "source": [
    "# Content-Based Recommender System\n",
    "\n",
    "- In this notebook, we will build a content-based recommender system using the Netflix dataset.\n",
    "- The system will recommend movies similar to a given movie based on their title, director, cast, genre, and description."
   ],
   "id": "93142e71d104116e"
  },
  {
   "metadata": {
    "collapsed": true,
    "ExecuteTime": {
     "end_time": "2024-12-15T13:30:41.549561Z",
     "start_time": "2024-12-15T13:30:41.546201Z"
    }
   },
   "cell_type": "code",
   "outputs": [],
   "execution_count": 51,
   "source": [
    "import pandas as pd\n",
    "from sklearn.feature_extraction.text import TfidfVectorizer\n",
    "import seaborn as sns\n",
    "import matplotlib.pyplot as plt\n",
    "from sklearn.metrics.pairwise import cosine_similarity"
   ],
   "id": "initial_id"
  },
  {
   "metadata": {},
   "cell_type": "markdown",
   "source": [
    "## Step 1: Load and preprocess the dataset\n",
    "We need to load the dataset and preprocess it to ensure it's clean and suitable for building a recommender system. We'll drop missing values in critical columns and combine relevant features for text-based analysis.\n"
   ],
   "id": "d20659e368fec39d"
  },
  {
   "metadata": {
    "ExecuteTime": {
     "end_time": "2024-12-15T13:30:41.638418Z",
     "start_time": "2024-12-15T13:30:41.560999Z"
    }
   },
   "cell_type": "code",
   "source": [
    "movies = pd.read_csv('../Netflix_movies_and_tv_shows_clustering.csv/Netflix_movies_and_tv_shows_clustering.csv')\n",
    "\n",
    "# Drop rows with missing critical information\n",
    "movies = movies.dropna(subset=['title', 'description', 'listed_in'])\n",
    "\n",
    "# Combine relevant columns into a single feature for text analysis\n",
    "movies['combined_features'] = (\n",
    "    movies['title'] + ' ' +\n",
    "    movies['director'].fillna('') + ' ' +\n",
    "    movies['cast'].fillna('') + ' ' +\n",
    "    movies['listed_in'].fillna('') + ' ' +\n",
    "    movies['description']\n",
    ")"
   ],
   "id": "1f5464b2a49724d0",
   "outputs": [],
   "execution_count": 52
  },
  {
   "metadata": {},
   "cell_type": "markdown",
   "source": [
    "## Step 2: Data Transformation (TF-IDF Vectorization)\n",
    "To analyze text data, we need to convert it into a numerical format. **TF-IDF (Term Frequency-Inverse Document Frequency)** is a technique that transforms text into a matrix of numerical values based on the importance of words in each document.\n"
   ],
   "id": "24da76a239fb89af"
  },
  {
   "metadata": {
    "ExecuteTime": {
     "end_time": "2024-12-15T13:30:41.852393Z",
     "start_time": "2024-12-15T13:30:41.645839Z"
    }
   },
   "cell_type": "code",
   "source": [
    "# Create a TF-IDF vectorizer\n",
    "vectorizer = TfidfVectorizer(stop_words='english', max_df=0.8, min_df=2)\n",
    "\n",
    "# Apply TF-IDF to the combined features column\n",
    "tfidf_matrix = vectorizer.fit_transform(movies['combined_features'])\n",
    "\n",
    "# Print matrix details\n",
    "print(f'TF-IDF matrix contains {tfidf_matrix.shape[0]} movies and {tfidf_matrix.shape[1]} unique terms')\n"
   ],
   "id": "fb94ea6b472f6bc1",
   "outputs": [
    {
     "name": "stdout",
     "output_type": "stream",
     "text": [
      "TF-IDF matrix contains 7787 movies and 23534 unique terms\n"
     ]
    }
   ],
   "execution_count": 53
  },
  {
   "metadata": {},
   "cell_type": "markdown",
   "source": [
    "## Step 3: Compute pairwise cosine similarity\n",
    "Cosine similarity measures the similarity between two movies based on their TF-IDF vectors. It helps us identify movies with similar content.\n"
   ],
   "id": "41dced3989aa205"
  },
  {
   "metadata": {
    "ExecuteTime": {
     "end_time": "2024-12-15T13:30:42.453442Z",
     "start_time": "2024-12-15T13:30:41.861109Z"
    }
   },
   "cell_type": "code",
   "source": "cosine_sim = cosine_similarity(tfidf_matrix, tfidf_matrix)",
   "id": "55dacb71aa5249f2",
   "outputs": [],
   "execution_count": 54
  },
  {
   "metadata": {},
   "cell_type": "markdown",
   "source": [
    "## Step 4: Define the recommendation function\n",
    "This function recommends movies based on the cosine similarity scores of their textual features. Users can input a movie title to get recommendations.\n",
    "\n"
   ],
   "id": "19caea307372ad92"
  },
  {
   "metadata": {
    "ExecuteTime": {
     "end_time": "2024-12-15T13:30:42.494775Z",
     "start_time": "2024-12-15T13:30:42.463160Z"
    }
   },
   "cell_type": "code",
   "source": [
    "def recommend_movies(title, cosine_sim=cosine_sim, movies=movies, top_n=5):\n",
    "    \"\"\"\n",
    "    Recommend movies based on a given title.\n",
    "\n",
    "    Args:\n",
    "        title (str): The title of the movie to base recommendations on.\n",
    "        cosine_sim (array): The precomputed cosine similarity matrix.\n",
    "        movies (DataFrame): The movies DataFrame.\n",
    "        top_n (int): Number of recommendations to return.\n",
    "\n",
    "    Returns:\n",
    "        DataFrame: A DataFrame of recommended movies with titles and years.\n",
    "    \"\"\"\n",
    "    try:\n",
    "        # Find the index of the movie\n",
    "        idx = movies[movies['title'].str.contains(title, case=False, na=False)].index[0]\n",
    "    except IndexError:\n",
    "        return \"Movie title not found in the dataset.\"\n",
    "\n",
    "    # Get similarity scores for all movies\n",
    "    sim_scores = list(enumerate(cosine_sim[idx]))\n",
    "\n",
    "    # Sort movies based on similarity scores\n",
    "    sim_scores = sorted(sim_scores, key=lambda x: x[1], reverse=True)\n",
    "\n",
    "    # Get the indices of the top n most similar movies\n",
    "    sim_scores = sim_scores[1: top_n + 1]  # Exclude the input movie itself\n",
    "    movie_indices = [i[0] for i in sim_scores]\n",
    "\n",
    "    # Return the top n most similar movies\n",
    "    return movies.iloc[movie_indices][['title', 'release_year']]\n"
   ],
   "id": "cfed09e9fb149c77",
   "outputs": [],
   "execution_count": 55
  },
  {
   "metadata": {},
   "cell_type": "markdown",
   "source": [
    "## Step 5: Test the recommendation function\n",
    "You can test the recommendation function by providing a movie title."
   ],
   "id": "12602a6548b31594"
  },
  {
   "metadata": {
    "ExecuteTime": {
     "end_time": "2024-12-15T13:30:42.515014Z",
     "start_time": "2024-12-15T13:30:42.503214Z"
    }
   },
   "cell_type": "code",
   "source": [
    "# test_movie = \"Pokémon the Series\"\n",
    "# test_movie = \"Rocky\"\n",
    "# test_movie = \"The Matrix\"\n",
    "# test_movie = \"AVA\"\n",
    "test_movie = \"breaking bad\"\n",
    "\n",
    "print(f\"\\nRecommendations for '{test_movie}':\")\n",
    "print(recommend_movies(test_movie))\n"
   ],
   "id": "ceb7699097511b82",
   "outputs": [
    {
     "name": "stdout",
     "output_type": "stream",
     "text": [
      "\n",
      "Recommendations for 'breaking bad':\n",
      "                                title  release_year\n",
      "858                  Better Call Saul          2018\n",
      "1945  El Camino: A Breaking Bad Movie          2019\n",
      "6865                         The Show          2017\n",
      "7450                   W/ Bob & David          2015\n",
      "2426                 Girlfriend's Day          2017\n"
     ]
    }
   ],
   "execution_count": 56
  },
  {
   "metadata": {},
   "cell_type": "markdown",
   "source": [
    "## Step 6: Visualize the recommendations\n",
    "Visualizing recommendations makes it easier to understand the similarity scores of recommended movies. We'll use a bar plot to show the similarity scores.\n"
   ],
   "id": "df07fffeecc424a6"
  },
  {
   "metadata": {
    "ExecuteTime": {
     "end_time": "2024-12-15T13:30:42.692633Z",
     "start_time": "2024-12-15T13:30:42.594493Z"
    }
   },
   "cell_type": "code",
   "source": [
    "# Step 6: Visualize the recommendations\n",
    "# ---------------------------------------------------\n",
    "def visualize_recommendations(title, top_n=5):\n",
    "    \"\"\"\n",
    "    Visualize recommendations as a bar plot.\n",
    "\n",
    "    Args:\n",
    "        title (str): The title of the movie to base recommendations on.\n",
    "        top_n (int): Number of recommendations to visualize.\n",
    "    \"\"\"\n",
    "    recommendations = recommend_movies(title, top_n=top_n)\n",
    "    if isinstance(recommendations, str):  # If the title is not found\n",
    "        print(recommendations)\n",
    "        return\n",
    "\n",
    "    # Calculate similarity scores\n",
    "    idx = movies[movies['title'].str.contains(title, case=False, na=False)].index[0]\n",
    "    recommendations['Similarity'] = [\n",
    "        cosine_sim[idx, movies.index.get_loc(i)] for i in recommendations.index\n",
    "    ]\n",
    "\n",
    "    # Plot the recommendations\n",
    "    plt.figure(figsize=(10, 6))\n",
    "    sns.barplot(data=recommendations, x='Similarity', y='title', color='blue')\n",
    "    plt.title(f\"Top {top_n} Recommendations for '{title}'\")\n",
    "    plt.xlabel('Similarity Score')\n",
    "    plt.ylabel('Movie Title')\n",
    "    plt.show()\n",
    "\n",
    "# Test the bar plot visualization\n",
    "visualize_recommendations(test_movie, top_n=5)\n"
   ],
   "id": "99731176d9aada00",
   "outputs": [
    {
     "data": {
      "text/plain": [
       "<Figure size 1000x600 with 1 Axes>"
      ],
      "image/png": "[encoded data removed]"
     },
     "metadata": {},
     "output_type": "display_data"
    }
   ],
   "execution_count": 57
  },
  {
   "metadata": {},
   "cell_type": "markdown",
   "source": [
    "# Conclusion\n",
    "In this notebook, we have successfully built a content-based recommender system for movies using the Netflix dataset. The system makes use of various textual features, such as the movie title, director, cast, genre, and description, to recommend similar movies based on their content. We employed the TF-IDF (Term Frequency-Inverse Document Frequency) technique to convert these textual features into numerical representations, followed by cosine similarity to calculate how similar each movie is to the input movie.\n",
    "\n",
    "The system's recommendation function allows users to input a movie title, and it returns a list of the most similar movies based on textual features. The visualization step further enhances the experience by showing similarity scores in an easily interpretable bar plot.\n",
    "\n",
    "Overall, this content-based recommender system demonstrates how to leverage text analysis techniques to build personalized recommendations in the realm of movie and TV show suggestions. The results provide an effective and scalable approach for recommending content based on the inherent properties of the movies themselves.\n",
    "\n",
    "### Alperen Doganci\n",
    "### Emran Hamdard"
   ],
   "id": "4de346812103ecf6"
  }
 ],
 "metadata": {
  "kernelspec": {
   "display_name": "Python 3",
   "language": "python",
   "name": "python3"
  },
  "language_info": {
   "codemirror_mode": {
    "name": "ipython",
    "version": 2
   },
   "file_extension": ".py",
   "mimetype": "text/x-python",
   "name": "python",
   "nbconvert_exporter": "python",
   "pygments_lexer": "ipython2",
   "version": "2.7.6"
  }
 },
 "nbformat": 4,
 "nbformat_minor": 5
}
